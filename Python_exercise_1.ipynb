{
  "nbformat": 4,
  "nbformat_minor": 0,
  "metadata": {
    "colab": {
      "name": "Python exercise 1.ipynb",
      "provenance": [],
      "collapsed_sections": [],
      "include_colab_link": true
    },
    "kernelspec": {
      "name": "python3",
      "display_name": "Python 3"
    }
  },
  "cells": [
    {
      "cell_type": "markdown",
      "metadata": {
        "id": "view-in-github",
        "colab_type": "text"
      },
      "source": [
        "<a href=\"https://colab.research.google.com/github/yoyoboom/python-exercise-1-4/blob/master/Python_exercise_1.ipynb\" target=\"_parent\"><img src=\"https://colab.research.google.com/assets/colab-badge.svg\" alt=\"Open In Colab\"/></a>"
      ]
    },
    {
      "cell_type": "code",
      "metadata": {
        "id": "GcjMvJKpdyaW",
        "colab_type": "code",
        "outputId": "20feda33-0a52-4149-9223-8402cbe53587",
        "colab": {
          "base_uri": "https://localhost:8080/",
          "height": 70
        }
      },
      "source": [
        "pip install -U arrow"
      ],
      "execution_count": 0,
      "outputs": [
        {
          "output_type": "stream",
          "text": [
            "Requirement already up-to-date: arrow in /usr/local/lib/python3.6/dist-packages (0.15.4)\n",
            "Requirement already satisfied, skipping upgrade: python-dateutil in /usr/local/lib/python3.6/dist-packages (from arrow) (2.6.1)\n",
            "Requirement already satisfied, skipping upgrade: six>=1.5 in /usr/local/lib/python3.6/dist-packages (from python-dateutil->arrow) (1.12.0)\n"
          ],
          "name": "stdout"
        }
      ]
    },
    {
      "cell_type": "code",
      "metadata": {
        "id": "qfWpPysQLiGT",
        "colab_type": "code",
        "outputId": "f481b392-1681-484c-95d1-14cbc6ce040c",
        "colab": {
          "base_uri": "https://localhost:8080/",
          "height": 52
        }
      },
      "source": [
        "# load data\n",
        "from IPython.core.interactiveshell import InteractiveShell\n",
        "InteractiveShell.ast_node_interactivity = \"all\"\n",
        "import pandas as pd\n",
        "from google.colab import drive\n",
        "drive.mount('/content/drive')\n",
        "df = pd.read_csv(open('drive/My Drive/Travel Pony Facebook.csv', 'rb'))\n",
        "\n",
        "import datetime\n",
        "datetime.datetime.today()"
      ],
      "execution_count": 0,
      "outputs": [
        {
          "output_type": "stream",
          "text": [
            "Drive already mounted at /content/drive; to attempt to forcibly remount, call drive.mount(\"/content/drive\", force_remount=True).\n"
          ],
          "name": "stdout"
        },
        {
          "output_type": "execute_result",
          "data": {
            "text/plain": [
              "datetime.datetime(2019, 11, 12, 21, 42, 23, 120979)"
            ]
          },
          "metadata": {
            "tags": []
          },
          "execution_count": 6
        }
      ]
    },
    {
      "cell_type": "code",
      "metadata": {
        "id": "82M4GIERLq__",
        "colab_type": "code",
        "outputId": "b004dbe2-bb52-41b7-b11b-fb30240728bd",
        "colab": {
          "base_uri": "https://localhost:8080/",
          "height": 34
        }
      },
      "source": [
        "##dt = arrow.get(row['Start Date'], 'M/D/YY')\n",
        "##dayoftheweek = dt.isoweekday()\n",
        "\n",
        "df['cost per impression']=df['Amount Spent (USD)']/df.Impressions\n",
        "df.max()['cost per impression']\n",
        "df.min()['cost per impression']"
      ],
      "execution_count": 0,
      "outputs": [
        {
          "output_type": "execute_result",
          "data": {
            "text/plain": [
              "0.31"
            ]
          },
          "metadata": {
            "tags": []
          },
          "execution_count": 7
        },
        {
          "output_type": "execute_result",
          "data": {
            "text/plain": [
              "0.0"
            ]
          },
          "metadata": {
            "tags": []
          },
          "execution_count": 7
        }
      ]
    },
    {
      "cell_type": "code",
      "metadata": {
        "id": "QYQ6MSEBS78S",
        "colab_type": "code",
        "outputId": "75bd9258-0efd-4dcd-825b-dc57dafede19",
        "colab": {
          "base_uri": "https://localhost:8080/",
          "height": 384
        }
      },
      "source": [
        "# clean data\n",
        "df['Start Date']=pd.to_datetime(df['Start Date'])\n",
        "df['weekday']= df['Start Date'].apply(lambda time: time.strftime('%A'))\n",
        "df.head(5)"
      ],
      "execution_count": 0,
      "outputs": [
        {
          "output_type": "execute_result",
          "data": {
            "text/html": [
              "<div>\n",
              "<style scoped>\n",
              "    .dataframe tbody tr th:only-of-type {\n",
              "        vertical-align: middle;\n",
              "    }\n",
              "\n",
              "    .dataframe tbody tr th {\n",
              "        vertical-align: top;\n",
              "    }\n",
              "\n",
              "    .dataframe thead th {\n",
              "        text-align: right;\n",
              "    }\n",
              "</style>\n",
              "<table border=\"1\" class=\"dataframe\">\n",
              "  <thead>\n",
              "    <tr style=\"text-align: right;\">\n",
              "      <th></th>\n",
              "      <th>Start Date</th>\n",
              "      <th>End Date</th>\n",
              "      <th>Account</th>\n",
              "      <th>Campaign Name</th>\n",
              "      <th>Reach</th>\n",
              "      <th>Frequency</th>\n",
              "      <th>Impressions</th>\n",
              "      <th>Clicks</th>\n",
              "      <th>Unique Clicks</th>\n",
              "      <th>Amount Spent (USD)</th>\n",
              "      <th>Page Likes</th>\n",
              "      <th>Page Engagement</th>\n",
              "      <th>Post Engagement</th>\n",
              "      <th>Post Likes</th>\n",
              "      <th>Post Comments</th>\n",
              "      <th>Post Shares</th>\n",
              "      <th>Photo Views</th>\n",
              "      <th>Website Clicks</th>\n",
              "      <th>Cost per Page Like (USD)</th>\n",
              "      <th>Cost per Page Engagement (USD)</th>\n",
              "      <th>cost per impression</th>\n",
              "      <th>weekday</th>\n",
              "    </tr>\n",
              "  </thead>\n",
              "  <tbody>\n",
              "    <tr>\n",
              "      <th>0</th>\n",
              "      <td>2013-12-02</td>\n",
              "      <td>2013-12-02</td>\n",
              "      <td>Bob Jackson</td>\n",
              "      <td>Cyber Weekend</td>\n",
              "      <td>278117</td>\n",
              "      <td>2.314303</td>\n",
              "      <td>643647</td>\n",
              "      <td>336</td>\n",
              "      <td>313</td>\n",
              "      <td>300.00</td>\n",
              "      <td>3</td>\n",
              "      <td>246</td>\n",
              "      <td>243</td>\n",
              "      <td>0</td>\n",
              "      <td>0</td>\n",
              "      <td>0</td>\n",
              "      <td>0</td>\n",
              "      <td>243</td>\n",
              "      <td>100.00</td>\n",
              "      <td>1.219512</td>\n",
              "      <td>0.000466</td>\n",
              "      <td>Monday</td>\n",
              "    </tr>\n",
              "    <tr>\n",
              "      <th>1</th>\n",
              "      <td>2013-12-01</td>\n",
              "      <td>2013-12-01</td>\n",
              "      <td>Bob Jackson</td>\n",
              "      <td>Cyber Weekend</td>\n",
              "      <td>221255</td>\n",
              "      <td>2.079090</td>\n",
              "      <td>460009</td>\n",
              "      <td>376</td>\n",
              "      <td>348</td>\n",
              "      <td>300.00</td>\n",
              "      <td>6</td>\n",
              "      <td>215</td>\n",
              "      <td>209</td>\n",
              "      <td>0</td>\n",
              "      <td>0</td>\n",
              "      <td>0</td>\n",
              "      <td>0</td>\n",
              "      <td>209</td>\n",
              "      <td>50.00</td>\n",
              "      <td>1.395349</td>\n",
              "      <td>0.000652</td>\n",
              "      <td>Sunday</td>\n",
              "    </tr>\n",
              "    <tr>\n",
              "      <th>2</th>\n",
              "      <td>2013-11-30</td>\n",
              "      <td>2013-11-30</td>\n",
              "      <td>Bob Jackson</td>\n",
              "      <td>Cyber Weekend</td>\n",
              "      <td>267915</td>\n",
              "      <td>2.499069</td>\n",
              "      <td>669538</td>\n",
              "      <td>383</td>\n",
              "      <td>345</td>\n",
              "      <td>300.00</td>\n",
              "      <td>2</td>\n",
              "      <td>252</td>\n",
              "      <td>250</td>\n",
              "      <td>0</td>\n",
              "      <td>0</td>\n",
              "      <td>0</td>\n",
              "      <td>0</td>\n",
              "      <td>250</td>\n",
              "      <td>150.00</td>\n",
              "      <td>1.190476</td>\n",
              "      <td>0.000448</td>\n",
              "      <td>Saturday</td>\n",
              "    </tr>\n",
              "    <tr>\n",
              "      <th>3</th>\n",
              "      <td>2013-11-29</td>\n",
              "      <td>2013-11-29</td>\n",
              "      <td>Bob Jackson</td>\n",
              "      <td>Cyber Weekend</td>\n",
              "      <td>280332</td>\n",
              "      <td>2.365406</td>\n",
              "      <td>663099</td>\n",
              "      <td>301</td>\n",
              "      <td>275</td>\n",
              "      <td>300.00</td>\n",
              "      <td>3</td>\n",
              "      <td>257</td>\n",
              "      <td>254</td>\n",
              "      <td>0</td>\n",
              "      <td>0</td>\n",
              "      <td>0</td>\n",
              "      <td>0</td>\n",
              "      <td>254</td>\n",
              "      <td>100.00</td>\n",
              "      <td>1.167315</td>\n",
              "      <td>0.000452</td>\n",
              "      <td>Friday</td>\n",
              "    </tr>\n",
              "    <tr>\n",
              "      <th>4</th>\n",
              "      <td>2013-11-22</td>\n",
              "      <td>2013-11-22</td>\n",
              "      <td>Bob Jackson</td>\n",
              "      <td>TravelPony: General Ads</td>\n",
              "      <td>14269</td>\n",
              "      <td>1.000420</td>\n",
              "      <td>14275</td>\n",
              "      <td>64</td>\n",
              "      <td>61</td>\n",
              "      <td>35.18</td>\n",
              "      <td>2</td>\n",
              "      <td>14</td>\n",
              "      <td>12</td>\n",
              "      <td>0</td>\n",
              "      <td>0</td>\n",
              "      <td>0</td>\n",
              "      <td>0</td>\n",
              "      <td>12</td>\n",
              "      <td>17.59</td>\n",
              "      <td>2.512857</td>\n",
              "      <td>0.002464</td>\n",
              "      <td>Friday</td>\n",
              "    </tr>\n",
              "  </tbody>\n",
              "</table>\n",
              "</div>"
            ],
            "text/plain": [
              "  Start Date    End Date  ... cost per impression   weekday\n",
              "0 2013-12-02  2013-12-02  ...            0.000466    Monday\n",
              "1 2013-12-01  2013-12-01  ...            0.000652    Sunday\n",
              "2 2013-11-30  2013-11-30  ...            0.000448  Saturday\n",
              "3 2013-11-29  2013-11-29  ...            0.000452    Friday\n",
              "4 2013-11-22  2013-11-22  ...            0.002464    Friday\n",
              "\n",
              "[5 rows x 22 columns]"
            ]
          },
          "metadata": {
            "tags": []
          },
          "execution_count": 8
        }
      ]
    },
    {
      "cell_type": "code",
      "metadata": {
        "id": "PX3BlDJIS6J3",
        "colab_type": "code",
        "colab": {}
      },
      "source": [
        "day=df.groupby('weekday')['cost per impression'].mean()"
      ],
      "execution_count": 0,
      "outputs": []
    },
    {
      "cell_type": "code",
      "metadata": {
        "id": "VhM4KEcZS9gW",
        "colab_type": "code",
        "outputId": "747c13d3-7130-472f-9c48-74cae400a8c8",
        "colab": {
          "base_uri": "https://localhost:8080/",
          "height": 105
        }
      },
      "source": [
        "# minimum and maximun of the day\n",
        "daymax=day.nlargest(1)\n",
        "daymax\n",
        "daymin=day.nsmallest(1)\n",
        "daymin"
      ],
      "execution_count": 0,
      "outputs": [
        {
          "output_type": "execute_result",
          "data": {
            "text/plain": [
              "weekday\n",
              "Friday    0.004097\n",
              "Name: cost per impression, dtype: float64"
            ]
          },
          "metadata": {
            "tags": []
          },
          "execution_count": 10
        },
        {
          "output_type": "execute_result",
          "data": {
            "text/plain": [
              "weekday\n",
              "Saturday    0.002629\n",
              "Name: cost per impression, dtype: float64"
            ]
          },
          "metadata": {
            "tags": []
          },
          "execution_count": 10
        }
      ]
    },
    {
      "cell_type": "code",
      "metadata": {
        "id": "XBWoFG4-TALX",
        "colab_type": "code",
        "colab": {}
      },
      "source": [
        "#### corrlation ###\n",
        "\n",
        "cor=df.corr()\n",
        "cor\n",
        "\n",
        "fourcor=cor.iloc[[0,1,4,6],5]\n",
        "fourcor\n",
        "\n",
        "maxcor=fourcor.nlargest(1)\n",
        "maxcor\n",
        "\n",
        "mincor=fourcor.nsmallest(1)\n",
        "mincor"
      ],
      "execution_count": 0,
      "outputs": []
    },
    {
      "cell_type": "code",
      "metadata": {
        "id": "fIJwD1anjHZv",
        "colab_type": "code",
        "outputId": "9195a0ae-1996-437a-ad57-10ee1bc0b533",
        "colab": {
          "base_uri": "https://localhost:8080/",
          "height": 54
        }
      },
      "source": [
        "print(\"The most strongest one is Unique Clicks which is 0.882993, and this date is positive and almost close to 1 point, therefor Unique Clicks is a good attribuite \")"
      ],
      "execution_count": 0,
      "outputs": [
        {
          "output_type": "stream",
          "text": [
            "The most strongest one is Unique Clicks which is 0.882993, and this date is positive and almost close to 1 point, therefor Unique Clicks is a good attribuite \n"
          ],
          "name": "stdout"
        }
      ]
    },
    {
      "cell_type": "code",
      "metadata": {
        "id": "omQxTiQMjINi",
        "colab_type": "code",
        "colab": {}
      },
      "source": [
        "### linear regression ###\n",
        "\n",
        "import statsmodels.api as sm"
      ],
      "execution_count": 0,
      "outputs": []
    },
    {
      "cell_type": "code",
      "metadata": {
        "id": "kyUyd_kbjMw5",
        "colab_type": "code",
        "colab": {}
      },
      "source": [
        "dep=df['Unique Clicks']\n",
        "indep=df[['Reach','Frequency']]"
      ],
      "execution_count": 0,
      "outputs": []
    },
    {
      "cell_type": "code",
      "metadata": {
        "id": "p-qSpdzcjN-n",
        "colab_type": "code",
        "outputId": "7a0e4a32-7102-437b-96e0-bc958dfd8e1d",
        "colab": {
          "base_uri": "https://localhost:8080/",
          "height": 421
        }
      },
      "source": [
        "# analysis\n",
        "l=sm.OLS(dep,indep)\n",
        "r=l.fit()\n",
        "r.summary()"
      ],
      "execution_count": 0,
      "outputs": [
        {
          "output_type": "execute_result",
          "data": {
            "text/html": [
              "<table class=\"simpletable\">\n",
              "<caption>OLS Regression Results</caption>\n",
              "<tr>\n",
              "  <th>Dep. Variable:</th>      <td>Unique Clicks</td>  <th>  R-squared (uncentered):</th>      <td>   0.557</td> \n",
              "</tr>\n",
              "<tr>\n",
              "  <th>Model:</th>                   <td>OLS</td>       <th>  Adj. R-squared (uncentered):</th> <td>   0.556</td> \n",
              "</tr>\n",
              "<tr>\n",
              "  <th>Method:</th>             <td>Least Squares</td>  <th>  F-statistic:       </th>          <td>   2325.</td> \n",
              "</tr>\n",
              "<tr>\n",
              "  <th>Date:</th>             <td>Tue, 12 Nov 2019</td> <th>  Prob (F-statistic):</th>           <td>  0.00</td>  \n",
              "</tr>\n",
              "<tr>\n",
              "  <th>Time:</th>                 <td>21:42:55</td>     <th>  Log-Likelihood:    </th>          <td> -15973.</td> \n",
              "</tr>\n",
              "<tr>\n",
              "  <th>No. Observations:</th>      <td>  3705</td>      <th>  AIC:               </th>          <td>3.195e+04</td>\n",
              "</tr>\n",
              "<tr>\n",
              "  <th>Df Residuals:</th>          <td>  3703</td>      <th>  BIC:               </th>          <td>3.196e+04</td>\n",
              "</tr>\n",
              "<tr>\n",
              "  <th>Df Model:</th>              <td>     2</td>      <th>                     </th>              <td> </td>    \n",
              "</tr>\n",
              "<tr>\n",
              "  <th>Covariance Type:</th>      <td>nonrobust</td>    <th>                     </th>              <td> </td>    \n",
              "</tr>\n",
              "</table>\n",
              "<table class=\"simpletable\">\n",
              "<tr>\n",
              "      <td></td>         <th>coef</th>     <th>std err</th>      <th>t</th>      <th>P>|t|</th>  <th>[0.025</th>    <th>0.975]</th>  \n",
              "</tr>\n",
              "<tr>\n",
              "  <th>Reach</th>     <td>    0.0019</td> <td> 3.12e-05</td> <td>   62.490</td> <td> 0.000</td> <td>    0.002</td> <td>    0.002</td>\n",
              "</tr>\n",
              "<tr>\n",
              "  <th>Frequency</th> <td>    3.6139</td> <td>    0.298</td> <td>   12.109</td> <td> 0.000</td> <td>    3.029</td> <td>    4.199</td>\n",
              "</tr>\n",
              "</table>\n",
              "<table class=\"simpletable\">\n",
              "<tr>\n",
              "  <th>Omnibus:</th>       <td>5107.616</td> <th>  Durbin-Watson:     </th>  <td>   0.803</td>  \n",
              "</tr>\n",
              "<tr>\n",
              "  <th>Prob(Omnibus):</th>  <td> 0.000</td>  <th>  Jarque-Bera (JB):  </th> <td>5128392.747</td>\n",
              "</tr>\n",
              "<tr>\n",
              "  <th>Skew:</th>           <td> 7.331</td>  <th>  Prob(JB):          </th>  <td>    0.00</td>  \n",
              "</tr>\n",
              "<tr>\n",
              "  <th>Kurtosis:</th>       <td>184.674</td> <th>  Cond. No.          </th>  <td>9.84e+03</td>  \n",
              "</tr>\n",
              "</table><br/><br/>Warnings:<br/>[1] Standard Errors assume that the covariance matrix of the errors is correctly specified.<br/>[2] The condition number is large, 9.84e+03. This might indicate that there are<br/>strong multicollinearity or other numerical problems."
            ],
            "text/plain": [
              "<class 'statsmodels.iolib.summary.Summary'>\n",
              "\"\"\"\n",
              "                                 OLS Regression Results                                \n",
              "=======================================================================================\n",
              "Dep. Variable:          Unique Clicks   R-squared (uncentered):                   0.557\n",
              "Model:                            OLS   Adj. R-squared (uncentered):              0.556\n",
              "Method:                 Least Squares   F-statistic:                              2325.\n",
              "Date:                Tue, 12 Nov 2019   Prob (F-statistic):                        0.00\n",
              "Time:                        21:42:55   Log-Likelihood:                         -15973.\n",
              "No. Observations:                3705   AIC:                                  3.195e+04\n",
              "Df Residuals:                    3703   BIC:                                  3.196e+04\n",
              "Df Model:                           2                                                  \n",
              "Covariance Type:            nonrobust                                                  \n",
              "==============================================================================\n",
              "                 coef    std err          t      P>|t|      [0.025      0.975]\n",
              "------------------------------------------------------------------------------\n",
              "Reach          0.0019   3.12e-05     62.490      0.000       0.002       0.002\n",
              "Frequency      3.6139      0.298     12.109      0.000       3.029       4.199\n",
              "==============================================================================\n",
              "Omnibus:                     5107.616   Durbin-Watson:                   0.803\n",
              "Prob(Omnibus):                  0.000   Jarque-Bera (JB):          5128392.747\n",
              "Skew:                           7.331   Prob(JB):                         0.00\n",
              "Kurtosis:                     184.674   Cond. No.                     9.84e+03\n",
              "==============================================================================\n",
              "\n",
              "Warnings:\n",
              "[1] Standard Errors assume that the covariance matrix of the errors is correctly specified.\n",
              "[2] The condition number is large, 9.84e+03. This might indicate that there are\n",
              "strong multicollinearity or other numerical problems.\n",
              "\"\"\""
            ]
          },
          "metadata": {
            "tags": []
          },
          "execution_count": 14
        }
      ]
    }
  ]
}