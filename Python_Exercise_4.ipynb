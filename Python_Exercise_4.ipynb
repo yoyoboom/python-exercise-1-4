{
  "nbformat": 4,
  "nbformat_minor": 0,
  "metadata": {
    "colab": {
      "name": "Python Exercise 4 - Yuki Yim.ipynb",
      "provenance": [],
      "collapsed_sections": [],
      "include_colab_link": true
    },
    "kernelspec": {
      "name": "python3",
      "display_name": "Python 3"
    }
  },
  "cells": [
    {
      "cell_type": "markdown",
      "metadata": {
        "id": "view-in-github",
        "colab_type": "text"
      },
      "source": [
        "<a href=\"https://colab.research.google.com/github/yoyoboom/python-exercise-1-4/blob/master/Python_Exercise_4.ipynb\" target=\"_parent\"><img src=\"https://colab.research.google.com/assets/colab-badge.svg\" alt=\"Open In Colab\"/></a>"
      ]
    },
    {
      "cell_type": "code",
      "metadata": {
        "id": "1SnTRy1hROHK",
        "colab_type": "code",
        "outputId": "8da90269-8e0b-4a19-ad75-9765e9a84adc",
        "colab": {
          "base_uri": "https://localhost:8080/",
          "height": 33
        }
      },
      "source": [
        "import pandas as pd\n",
        "import pandas\n",
        "import requests\n",
        "import json\n",
        "import urllib\n",
        "from urllib.request import Request, urlopen\n",
        "from google.colab import drive\n",
        "drive.mount('/content/drive')\n",
        "df = pd.read_csv(open('drive/My Drive/msas.csv', 'rb'))"
      ],
      "execution_count": 0,
      "outputs": [
        {
          "output_type": "stream",
          "text": [
            "Drive already mounted at /content/drive; to attempt to forcibly remount, call drive.mount(\"/content/drive\", force_remount=True).\n"
          ],
          "name": "stdout"
        }
      ]
    },
    {
      "cell_type": "code",
      "metadata": {
        "id": "iLp9z-iPR8EU",
        "colab_type": "code",
        "outputId": "59200d3e-a0a4-4ad1-8554-23b02e68d710",
        "colab": {
          "base_uri": "https://localhost:8080/",
          "height": 191
        }
      },
      "source": [
        "df.head()"
      ],
      "execution_count": 0,
      "outputs": [
        {
          "output_type": "execute_result",
          "data": {
            "text/html": [
              "<div>\n",
              "<style scoped>\n",
              "    .dataframe tbody tr th:only-of-type {\n",
              "        vertical-align: middle;\n",
              "    }\n",
              "\n",
              "    .dataframe tbody tr th {\n",
              "        vertical-align: top;\n",
              "    }\n",
              "\n",
              "    .dataframe thead th {\n",
              "        text-align: right;\n",
              "    }\n",
              "</style>\n",
              "<table border=\"1\" class=\"dataframe\">\n",
              "  <thead>\n",
              "    <tr style=\"text-align: right;\">\n",
              "      <th></th>\n",
              "      <th>CBSA</th>\n",
              "      <th>NAME</th>\n",
              "      <th>POPESTIMATE2017</th>\n",
              "    </tr>\n",
              "  </thead>\n",
              "  <tbody>\n",
              "    <tr>\n",
              "      <th>0</th>\n",
              "      <td>10180</td>\n",
              "      <td>Abilene, TX</td>\n",
              "      <td>170219</td>\n",
              "    </tr>\n",
              "    <tr>\n",
              "      <th>1</th>\n",
              "      <td>10420</td>\n",
              "      <td>Akron, OH</td>\n",
              "      <td>703505</td>\n",
              "    </tr>\n",
              "    <tr>\n",
              "      <th>2</th>\n",
              "      <td>10500</td>\n",
              "      <td>Albany, GA</td>\n",
              "      <td>151434</td>\n",
              "    </tr>\n",
              "    <tr>\n",
              "      <th>3</th>\n",
              "      <td>10540</td>\n",
              "      <td>Albany, OR</td>\n",
              "      <td>125047</td>\n",
              "    </tr>\n",
              "    <tr>\n",
              "      <th>4</th>\n",
              "      <td>10580</td>\n",
              "      <td>Albany-Schenectady-Troy, NY</td>\n",
              "      <td>886188</td>\n",
              "    </tr>\n",
              "  </tbody>\n",
              "</table>\n",
              "</div>"
            ],
            "text/plain": [
              "    CBSA                         NAME  POPESTIMATE2017\n",
              "0  10180                  Abilene, TX           170219\n",
              "1  10420                    Akron, OH           703505\n",
              "2  10500                   Albany, GA           151434\n",
              "3  10540                   Albany, OR           125047\n",
              "4  10580  Albany-Schenectady-Troy, NY           886188"
            ]
          },
          "metadata": {
            "tags": []
          },
          "execution_count": 103
        }
      ]
    },
    {
      "cell_type": "code",
      "metadata": {
        "id": "935QC6ztbccy",
        "colab_type": "code",
        "colab": {}
      },
      "source": [
        "geoid = \"31000US\" + df[\"CBSA\"].astype(str)\n",
        "\n",
        "A = geoid[:len(geoid)//2]\n",
        "Z = geoid[len(geoid)//2:]"
      ],
      "execution_count": 0,
      "outputs": []
    },
    {
      "cell_type": "code",
      "metadata": {
        "id": "daxDCH5Sd7gp",
        "colab_type": "code",
        "outputId": "6f64a7a8-f754-4c2d-dbcd-bc0e27863b4d",
        "colab": {
          "base_uri": "https://localhost:8080/",
          "height": 53
        }
      },
      "source": [
        "A = ','.join(A)\n",
        "Z = ','.join(Z)\n",
        "\n",
        "A\n",
        "Z"
      ],
      "execution_count": 0,
      "outputs": [
        {
          "output_type": "execute_result",
          "data": {
            "text/plain": [
              "'31000US29420,31000US29460,31000US29540,31000US29620,31000US29700,31000US29740,31000US29820,31000US29940,31000US30020,31000US30140,31000US30300,31000US30340,31000US30460,31000US30620,31000US30700,31000US30780,31000US30860,31000US30980,31000US31020,31000US31080,31000US31140,31000US31180,31000US31340,31000US31420,31000US31460,31000US31540,31000US31700,31000US31740,31000US31860,31000US31900,31000US32580,31000US32780,31000US32820,31000US32900,31000US33100,31000US33140,31000US33220,31000US33260,31000US33340,31000US33460,31000US33540,31000US33660,31000US33700,31000US33740,31000US33780,31000US33860,31000US34060,31000US34100,31000US34580,31000US34620,31000US34740,31000US34820,31000US34900,31000US34940,31000US34980,31000US35100,31000US35300,31000US35380,31000US35620,31000US35660,31000US35840,31000US35980,31000US36100,31000US36140,31000US36220,31000US36260,31000US36420,31000US36500,31000US36540,31000US36740,31000US36780,31000US36980,31000US37100,31000US37340,31000US37460,31000US37620,31000US37860,31000US37900,31000US37980,31000US38060,31000US38220,31000US38300,31000US38340,31000US38540,31000US38860,31000US38900,31000US38940,31000US39140,31000US39300,31000US39340,31000US39380,31000US39460,31000US39540,31000US39580,31000US39660,31000US39740,31000US39820,31000US39900,31000US40060,31000US40140,31000US40220,31000US40340,31000US40380,31000US40420,31000US40580,31000US40660,31000US40900,31000US40980,31000US41060,31000US41100,31000US41140,31000US41180,31000US41420,31000US41500,31000US41540,31000US41620,31000US41660,31000US41700,31000US41740,31000US41860,31000US41940,31000US42020,31000US42100,31000US42140,31000US42200,31000US42220,31000US42340,31000US42540,31000US42660,31000US42680,31000US42700,31000US43100,31000US43300,31000US43340,31000US43420,31000US43580,31000US43620,31000US43780,31000US43900,31000US44060,31000US44100,31000US44140,31000US44180,31000US44220,31000US44300,31000US44420,31000US44700,31000US44940,31000US45060,31000US45220,31000US45300,31000US45460,31000US45500,31000US45540,31000US45780,31000US45820,31000US45940,31000US46060,31000US46140,31000US46220,31000US46340,31000US46520,31000US46540,31000US46660,31000US46700,31000US47020,31000US47220,31000US47260,31000US47300,31000US47380,31000US47460,31000US47580,31000US47900,31000US47940,31000US48060,31000US48140,31000US48260,31000US48300,31000US48540,31000US48620,31000US48660,31000US48700,31000US48900,31000US49020,31000US49180,31000US49340,31000US49420,31000US49620,31000US49660,31000US49700,31000US49740'"
            ]
          },
          "metadata": {
            "tags": []
          },
          "execution_count": 105
        }
      ]
    },
    {
      "cell_type": "code",
      "metadata": {
        "id": "DNEyXvHFR8N5",
        "colab_type": "code",
        "outputId": "1aeeb993-1a7f-4c4c-dfd9-7fde37674352",
        "colab": {
          "base_uri": "https://localhost:8080/",
          "height": 33
        }
      },
      "source": [
        "tableids = ['B01001', 'B13016', 'B13017']\n",
        "tableidstring = \",\".join(tableids)\n",
        "\n",
        "tableidstring"
      ],
      "execution_count": 0,
      "outputs": [
        {
          "output_type": "execute_result",
          "data": {
            "text/plain": [
              "'B01001,B13016,B13017'"
            ]
          },
          "metadata": {
            "tags": []
          },
          "execution_count": 106
        }
      ]
    },
    {
      "cell_type": "markdown",
      "metadata": {
        "id": "nn8_D5TCesKH",
        "colab_type": "text"
      },
      "source": [
        "# Question 1\n",
        "What city has the highest count of the audience you chose for parameter #1?"
      ]
    },
    {
      "cell_type": "code",
      "metadata": {
        "id": "O583hm71e9AW",
        "colab_type": "code",
        "outputId": "a851ef8e-fe55-447c-ff75-5e89b9ee2463",
        "colab": {
          "base_uri": "https://localhost:8080/",
          "height": 33
        }
      },
      "source": [
        "# create new table 1\n",
        "tbid1 = ['B19001']\n",
        "tbidstr1 = ','.join(tbid1)\n",
        "\n",
        "tbid1\n",
        "tbidstr1"
      ],
      "execution_count": 0,
      "outputs": [
        {
          "output_type": "execute_result",
          "data": {
            "text/plain": [
              "'B19001'"
            ]
          },
          "metadata": {
            "tags": []
          },
          "execution_count": 107
        }
      ]
    },
    {
      "cell_type": "code",
      "metadata": {
        "id": "ka5v63HTdPLn",
        "colab_type": "code",
        "colab": {}
      },
      "source": [
        "# first half\n",
        "requesturl = 'http://api.censusreporter.org/1.0/data/show/latest?table_ids=%s&geo_ids=%s' % (tbidstr1, A)\n",
        "loadedjson = requests.get(requesturl)\n",
        "parsedjson1 = json.loads(loadedjson.text)"
      ],
      "execution_count": 0,
      "outputs": []
    },
    {
      "cell_type": "code",
      "metadata": {
        "id": "N8pq4VTLjYJb",
        "colab_type": "code",
        "colab": {}
      },
      "source": [
        "# the rest half\n",
        "requesturl = 'http://api.censusreporter.org/1.0/data/show/latest?table_ids=%s&geo_ids=%s' % (tbidstr1, Z)\n",
        "loadedjson = requests.get(requesturl)\n",
        "parsedjson2 = json.loads(loadedjson.text)"
      ],
      "execution_count": 0,
      "outputs": []
    },
    {
      "cell_type": "markdown",
      "metadata": {
        "id": "iSLkIQWJkwrk",
        "colab_type": "text"
      },
      "source": [
        "#### what avg. hh income we chose? parameter#1\n",
        "Range from 50k to 74.9k: B19001 "
      ]
    },
    {
      "cell_type": "code",
      "metadata": {
        "id": "cOh5AIAvmPtE",
        "colab_type": "code",
        "colab": {}
      },
      "source": [
        "# build data frame w/ country and population\n",
        "dfhh = pd.DataFrame(columns = ['country', 'population'], index = list(range(1,len(geoid))))"
      ],
      "execution_count": 0,
      "outputs": []
    },
    {
      "cell_type": "code",
      "metadata": {
        "id": "m3kcQla-mz0K",
        "colab_type": "code",
        "colab": {}
      },
      "source": [
        "# put first half data in dataframe\n",
        "for i in list(range(1,len(geoid)//2)):\n",
        "  dfhh['country'][i] = [geoid[i]]\n",
        "  dfhh['population'][i] = parsedjson1['data'][geoid[i]]['B19001']['estimate']['B19001011'] + parsedjson1['data'][geoid[i]]['B19001']['estimate']['B19001012']"
      ],
      "execution_count": 0,
      "outputs": []
    },
    {
      "cell_type": "code",
      "metadata": {
        "id": "NvR_RMIInv-0",
        "colab_type": "code",
        "colab": {}
      },
      "source": [
        "# put rest half data in dataframe\n",
        "for i in list(range(192,len(geoid))):\n",
        "  dfhh['country'][i] = [geoid[i]]\n",
        "  dfhh['population'][i] = parsedjson2['data'][geoid[i]]['B19001']['estimate']['B19001011'] + parsedjson2['data'][geoid[i]]['B19001']['estimate']['B19001012']"
      ],
      "execution_count": 0,
      "outputs": []
    },
    {
      "cell_type": "code",
      "metadata": {
        "id": "T_kJav4nn_2a",
        "colab_type": "code",
        "outputId": "f033d98a-a467-4873-dae9-36f466a71ef8",
        "colab": {
          "base_uri": "https://localhost:8080/",
          "height": 50
        }
      },
      "source": [
        "print(dfhh.loc[dfhh['population'] == max(dfhh['population'])])"
      ],
      "execution_count": 0,
      "outputs": [
        {
          "output_type": "stream",
          "text": [
            "            country   population\n",
            "249  [31000US35620]  1.01121e+06\n"
          ],
          "name": "stdout"
        }
      ]
    },
    {
      "cell_type": "code",
      "metadata": {
        "id": "8fjMDc21oVPH",
        "colab_type": "code",
        "outputId": "f14f7168-944e-4682-baac-d3acd4a70fb4",
        "colab": {
          "base_uri": "https://localhost:8080/",
          "height": 50
        }
      },
      "source": [
        "print(df.loc[df['CBSA'] == 35620])"
      ],
      "execution_count": 0,
      "outputs": [
        {
          "output_type": "stream",
          "text": [
            "      CBSA                                   NAME  POPESTIMATE2017\n",
            "249  35620  New York-Newark-Jersey City, NY-NJ-PA         20320876\n"
          ],
          "name": "stdout"
        }
      ]
    },
    {
      "cell_type": "markdown",
      "metadata": {
        "id": "a3XWiYI9pfVG",
        "colab_type": "text"
      },
      "source": [
        "According to the analysis, NY-NJ-PA has the highest count of avg. hh income b/w 50k to 70k 1.01121e+06"
      ]
    },
    {
      "cell_type": "markdown",
      "metadata": {
        "id": "X5FMZd36qTH3",
        "colab_type": "text"
      },
      "source": [
        "# Question 2\n",
        "What city has the highest count of the audience you chose for parameter #2?"
      ]
    },
    {
      "cell_type": "code",
      "metadata": {
        "id": "2msuZ8JeqfTK",
        "colab_type": "code",
        "outputId": "9d91f425-d4dd-4698-b251-9c430e20bafd",
        "colab": {
          "base_uri": "https://localhost:8080/",
          "height": 33
        }
      },
      "source": [
        "# table 2\n",
        "tbid2 = ['B01001']\n",
        "tbidstr2 = ','.join(tbid2)\n",
        "\n",
        "tbid2\n",
        "tbidstr2"
      ],
      "execution_count": 0,
      "outputs": [
        {
          "output_type": "execute_result",
          "data": {
            "text/plain": [
              "'B01001'"
            ]
          },
          "metadata": {
            "tags": []
          },
          "execution_count": 146
        }
      ]
    },
    {
      "cell_type": "code",
      "metadata": {
        "id": "kiGUFhCEsyM5",
        "colab_type": "code",
        "colab": {}
      },
      "source": [
        "# first half data\n",
        "requesturl = 'http://api.censusreporter.org/1.0/data/show/latest?table_ids=%s&geo_ids=%s' % (tbidstr2, A)\n",
        "loadedjson = requests.get(requesturl)\n",
        "parsedjson3 = json.loads(loadedjson.text)"
      ],
      "execution_count": 0,
      "outputs": []
    },
    {
      "cell_type": "code",
      "metadata": {
        "id": "6pbkj41hs20w",
        "colab_type": "code",
        "colab": {}
      },
      "source": [
        "# rest half data\n",
        "requesturl = 'http://api.censusreporter.org/1.0/data/show/latest?table_ids=%s&geo_ids=%s' % (tbidstr2, Z)\n",
        "loadedjson = requests.get(requesturl)\n",
        "parsedjson4 = json.loads(loadedjson.text)"
      ],
      "execution_count": 0,
      "outputs": []
    },
    {
      "cell_type": "markdown",
      "metadata": {
        "id": "2tIO0uNLuTaD",
        "colab_type": "text"
      },
      "source": [
        "#### what age range we should target? parameter#2\n",
        "Range from age 18 to 34:\n",
        "'B01001003', 'B01001004', 'B01001005', 'B01001006', 'B01001007', 'B01001008', 'B01001009', 'B010010010', 'B010010011', 'B010010012'"
      ]
    },
    {
      "cell_type": "code",
      "metadata": {
        "id": "s33WX91nvcAP",
        "colab_type": "code",
        "colab": {}
      },
      "source": [
        "# age range\n",
        "age_range = ['B01001007','B01001008','B01001009','B01001010','B01001011','B01001012']"
      ],
      "execution_count": 0,
      "outputs": []
    },
    {
      "cell_type": "code",
      "metadata": {
        "id": "-5nnAikevmfA",
        "colab_type": "code",
        "colab": {}
      },
      "source": [
        "df1 = pd.DataFrame(columns=['location', 'population'], index=list(range(1,len(geoid))))"
      ],
      "execution_count": 0,
      "outputs": []
    },
    {
      "cell_type": "code",
      "metadata": {
        "id": "qyoGHIqVwCzS",
        "colab_type": "code",
        "colab": {}
      },
      "source": [
        "# put first half data in dataframe\n",
        "for i in list(range(1,len(geoid)//2)):\n",
        "    df1['location'][i]=[geoid[i]]\n",
        "    df1['population'][i] = parsedjson3['data'][geoid[i]]['B01001']['estimate'][age_range[0]] + parsedjson3['data'][geoid[i]]['B01001']['estimate'][age_range[1]] + parsedjson3['data'][geoid[i]]['B01001']['estimate'][age_range[2]] + parsedjson3['data'][geoid[i]]['B01001']['estimate'][age_range[3]] + parsedjson3['data'][geoid[i]]['B01001']['estimate'][age_range[4]] + parsedjson3['data'][geoid[i]]['B01001']['estimate'][age_range[5]] "
      ],
      "execution_count": 0,
      "outputs": []
    },
    {
      "cell_type": "code",
      "metadata": {
        "id": "yZPSnN1cyil-",
        "colab_type": "code",
        "colab": {}
      },
      "source": [
        "# put rest half data in dataframe\n",
        "for i in list(range(192,len(geoid))):\n",
        "  df1['location'][i] = [geoid[i]]\n",
        "  df1['population'][i] = parsedjson4['data'][geoid[i]]['B01001']['estimate'][age_range[0]]+parsedjson4['data'][geoid[i]]['B01001']['estimate'][age_range[1]]+parsedjson4['data'][geoid[i]]['B01001']['estimate'][age_range[2]]+parsedjson4['data'][geoid[i]]['B01001']['estimate'][age_range[3]]+parsedjson4['data'][geoid[i]]['B01001']['estimate'][age_range[4]]+parsedjson4['data'][geoid[i]]['B01001']['estimate'][age_range[5]]"
      ],
      "execution_count": 0,
      "outputs": []
    },
    {
      "cell_type": "code",
      "metadata": {
        "id": "JOPrxtbi8wNQ",
        "colab_type": "code",
        "outputId": "b474045f-973f-4432-f41e-f0665a09d65b",
        "colab": {
          "base_uri": "https://localhost:8080/",
          "height": 50
        }
      },
      "source": [
        "print(df1.loc[df1['population'] == max(df1['population'])])"
      ],
      "execution_count": 0,
      "outputs": [
        {
          "output_type": "stream",
          "text": [
            "           location   population\n",
            "249  [31000US35620]  2.33054e+06\n"
          ],
          "name": "stdout"
        }
      ]
    },
    {
      "cell_type": "code",
      "metadata": {
        "id": "QWWzlTy886nk",
        "colab_type": "code",
        "outputId": "536253f8-7376-43f5-e3f6-0ec6e9b103ac",
        "colab": {
          "base_uri": "https://localhost:8080/",
          "height": 50
        }
      },
      "source": [
        "print(df.loc[df['CBSA'] == 35620])"
      ],
      "execution_count": 0,
      "outputs": [
        {
          "output_type": "stream",
          "text": [
            "      CBSA                                   NAME  POPESTIMATE2017\n",
            "249  35620  New York-Newark-Jersey City, NY-NJ-PA         20320876\n"
          ],
          "name": "stdout"
        }
      ]
    },
    {
      "cell_type": "markdown",
      "metadata": {
        "id": "ditJ_t8g9KEV",
        "colab_type": "text"
      },
      "source": [
        "According to the analysis, NY-NJ-PA has the highest count of age range b/w 18 to 34, 2.33054e+06"
      ]
    },
    {
      "cell_type": "markdown",
      "metadata": {
        "id": "ALWdGiXvqXpi",
        "colab_type": "text"
      },
      "source": [
        "# Question 3\n",
        "What city has the highest count of the audience you chose for parameter #3?"
      ]
    },
    {
      "cell_type": "code",
      "metadata": {
        "id": "YXuSfP149Xs6",
        "colab_type": "code",
        "outputId": "884e910b-0b95-48d6-a3af-7cba1a140c39",
        "colab": {
          "base_uri": "https://localhost:8080/",
          "height": 33
        }
      },
      "source": [
        "# build new table 3\n",
        "tbid3 = ['B03003']\n",
        "tbidstr3 = ','.join(tbid3)\n",
        "\n",
        "tbid3\n",
        "tbidstr3"
      ],
      "execution_count": 0,
      "outputs": [
        {
          "output_type": "execute_result",
          "data": {
            "text/plain": [
              "'B03003'"
            ]
          },
          "metadata": {
            "tags": []
          },
          "execution_count": 165
        }
      ]
    },
    {
      "cell_type": "code",
      "metadata": {
        "id": "zjvyGV339gXh",
        "colab_type": "code",
        "colab": {}
      },
      "source": [
        "# first half data\n",
        "requesturl = 'http://api.censusreporter.org/1.0/data/show/latest?table_ids=%s&geo_ids=%s' % (tbidstr3, A)\n",
        "loadedjson = requests.get(requesturl)\n",
        "parsedjson5 = json.loads(loadedjson.text)"
      ],
      "execution_count": 0,
      "outputs": []
    },
    {
      "cell_type": "code",
      "metadata": {
        "id": "c1AKOzVX9n5T",
        "colab_type": "code",
        "colab": {}
      },
      "source": [
        "# rest half data\n",
        "requesturl = 'http://api.censusreporter.org/1.0/data/show/latest?table_ids=%s&geo_ids=%s' % (tbidstr3, Z)\n",
        "loadedjson = requests.get(requesturl)\n",
        "parsedjson6 = json.loads(loadedjson.text)"
      ],
      "execution_count": 0,
      "outputs": []
    },
    {
      "cell_type": "markdown",
      "metadata": {
        "id": "LrawD6wx9tCe",
        "colab_type": "text"
      },
      "source": [
        "#### Should we look for areas with large Hispanic populations? Parameter #3"
      ]
    },
    {
      "cell_type": "code",
      "metadata": {
        "id": "3aO7wgep9rQQ",
        "colab_type": "code",
        "colab": {}
      },
      "source": [
        "df2 = pd.DataFrame(columns=['location', 'population'], index=list(range(1,len(geoid))))"
      ],
      "execution_count": 0,
      "outputs": []
    },
    {
      "cell_type": "code",
      "metadata": {
        "id": "ABxxwH32-Chy",
        "colab_type": "code",
        "colab": {}
      },
      "source": [
        "# put first half data in dataframe\n",
        "for i in list(range(1,len(geoid)//2)):\n",
        "    df2['location'][i] = [geoid[i]]\n",
        "    df2['population'][i] = parsedjson5['data'][geoid[i]]['B03003']['estimate']['B03003003']"
      ],
      "execution_count": 0,
      "outputs": []
    },
    {
      "cell_type": "code",
      "metadata": {
        "id": "oWxWVHTK-hWq",
        "colab_type": "code",
        "colab": {}
      },
      "source": [
        "# put rest half data in dataframe\n",
        "for i in list(range(192,len(geoid))):\n",
        "    df2['location'][i] = [geoid[i]]\n",
        "    df2['population'][i] = parsedjson6['data'][geoid[i]]['B03003']['estimate']['B03003003']"
      ],
      "execution_count": 0,
      "outputs": []
    },
    {
      "cell_type": "code",
      "metadata": {
        "id": "EFiUC7AS-lo8",
        "colab_type": "code",
        "outputId": "23f77e4b-b1e8-4632-ddc5-dad730e953fe",
        "colab": {
          "base_uri": "https://localhost:8080/",
          "height": 50
        }
      },
      "source": [
        "print(df2.loc[df2['population'] == max(df2['population'])])"
      ],
      "execution_count": 0,
      "outputs": [
        {
          "output_type": "stream",
          "text": [
            "           location   population\n",
            "210  [31000US31080]  6.00354e+06\n"
          ],
          "name": "stdout"
        }
      ]
    },
    {
      "cell_type": "code",
      "metadata": {
        "id": "aSFfjoyW-tmi",
        "colab_type": "code",
        "outputId": "fa7f43dc-e2cf-44ca-83e9-88aad10a2731",
        "colab": {
          "base_uri": "https://localhost:8080/",
          "height": 50
        }
      },
      "source": [
        "print(df.loc[df['CBSA'] == 31080])"
      ],
      "execution_count": 0,
      "outputs": [
        {
          "output_type": "stream",
          "text": [
            "      CBSA                                NAME  POPESTIMATE2017\n",
            "210  31080  Los Angeles-Long Beach-Anaheim, CA         13353907\n"
          ],
          "name": "stdout"
        }
      ]
    },
    {
      "cell_type": "markdown",
      "metadata": {
        "id": "J58zi8bT-zxD",
        "colab_type": "text"
      },
      "source": [
        "According to the analysis, LA-LB-AH has the highest count of Hispanic, 6.00354+06"
      ]
    },
    {
      "cell_type": "markdown",
      "metadata": {
        "id": "9fnoqNnmqb82",
        "colab_type": "text"
      },
      "source": [
        "# Question 4\n",
        "What city has the highest mean percentage across all three categories?"
      ]
    },
    {
      "cell_type": "code",
      "metadata": {
        "id": "1y2pwIFY_HO3",
        "colab_type": "code",
        "colab": {}
      },
      "source": [
        "# create 3 empty sets\n",
        "hh_income = []\n",
        "ppl_by_age = []\n",
        "ppl_by_his = []"
      ],
      "execution_count": 0,
      "outputs": []
    },
    {
      "cell_type": "code",
      "metadata": {
        "id": "APL5ixwt_I1S",
        "colab_type": "code",
        "colab": {}
      },
      "source": [
        "# put data in sets\n",
        "for i, row in dfhh.iterrows():\n",
        "    per_income = dfhh['population'][i]/max(dfhh['population'])\n",
        "    per_age = df1['population'][i]/max(df1['population'])\n",
        "    per_his = df2['population'][i]/max(df2['population'])\n",
        "    hh_income.append(per_income)\n",
        "    ppl_by_age.append(per_age)\n",
        "    ppl_by_his.append(per_his)"
      ],
      "execution_count": 0,
      "outputs": []
    },
    {
      "cell_type": "code",
      "metadata": {
        "id": "GlDXdGTw_JGu",
        "colab_type": "code",
        "colab": {}
      },
      "source": [
        "dfhh['percentage'] = hh_income\n",
        "df1['percentage'] = ppl_by_age\n",
        "df2['percentage'] = ppl_by_his"
      ],
      "execution_count": 0,
      "outputs": []
    },
    {
      "cell_type": "code",
      "metadata": {
        "id": "Zj1vEVZdA5DC",
        "colab_type": "code",
        "colab": {}
      },
      "source": [
        "# percentage mean\n",
        "Pmean = []\n",
        "for i, row in dfhh.iterrows():\n",
        "    Mean = (dfhh['percentage'][i] + df1['percentage'][i] + df2['percentage'][i])/3\n",
        "    Pmean.append(Mean)\n",
        "dfhh['percent mean'] = Pmean"
      ],
      "execution_count": 0,
      "outputs": []
    },
    {
      "cell_type": "code",
      "metadata": {
        "id": "e8V-QpcPBjCg",
        "colab_type": "code",
        "outputId": "8554add3-605e-44bb-f29c-757bc64bc461",
        "colab": {
          "base_uri": "https://localhost:8080/",
          "height": 50
        }
      },
      "source": [
        "print(dfhh.loc[dfhh['percent mean'] == max(dfhh['percent mean'])])"
      ],
      "execution_count": 0,
      "outputs": [
        {
          "output_type": "stream",
          "text": [
            "            country   population  percentage  percent mean\n",
            "249  [31000US35620]  1.01121e+06         1.0      0.940082\n"
          ],
          "name": "stdout"
        }
      ]
    },
    {
      "cell_type": "code",
      "metadata": {
        "id": "IeEB2vWyBrpV",
        "colab_type": "code",
        "outputId": "f021aa01-10ea-49f9-90bf-a67be9ca2209",
        "colab": {
          "base_uri": "https://localhost:8080/",
          "height": 50
        }
      },
      "source": [
        "print(df.loc[df['CBSA'] == 35620])"
      ],
      "execution_count": 0,
      "outputs": [
        {
          "output_type": "stream",
          "text": [
            "      CBSA                                   NAME  POPESTIMATE2017\n",
            "249  35620  New York-Newark-Jersey City, NY-NJ-PA         20320876\n"
          ],
          "name": "stdout"
        }
      ]
    },
    {
      "cell_type": "markdown",
      "metadata": {
        "id": "GxK-5dAFBxMS",
        "colab_type": "text"
      },
      "source": [
        "According to the analysis, NY-NJ-PA has the highest mean percent across all 3 categories."
      ]
    }
  ]
}